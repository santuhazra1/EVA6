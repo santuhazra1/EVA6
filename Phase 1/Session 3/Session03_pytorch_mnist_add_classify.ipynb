{
  "nbformat": 4,
  "nbformat_minor": 0,
  "metadata": {
    "colab": {
      "name": "Session03_pytorch_mnist_add_classify.ipynb",
      "provenance": [],
      "collapsed_sections": []
    },
    "kernelspec": {
      "name": "python3",
      "display_name": "Python 3"
    },
    "language_info": {
      "name": "python"
    },
    "accelerator": "GPU"
  },
  "cells": [
    {
      "cell_type": "markdown",
      "metadata": {
        "id": "G9VhqKzQGY_F"
      },
      "source": [
        "# MNIST digit classification and sum prediction\n",
        "\n",
        "### Objective:\n",
        "Design a neural network that-\n",
        "1. takes an input image from MNIST dataset.\n",
        "2. a random number between 0 and 9.\n",
        "\n",
        "and predicts\n",
        "1. the number that was represented by the MNIST image.\n",
        "2. sum of the random number and MNIST number \n",
        "\n",
        "### Observations:"
      ]
    },
    {
      "cell_type": "markdown",
      "metadata": {
        "id": "IiyZkZajxSY7"
      },
      "source": [
        "### Necessary packages"
      ]
    },
    {
      "cell_type": "code",
      "metadata": {
        "colab": {
          "base_uri": "https://localhost:8080/"
        },
        "id": "TThpcGT9xUb2",
        "outputId": "b062831b-39dc-4001-f676-cfbd2800eef3"
      },
      "source": [
        "!pip install idx2numpy\n",
        "\n",
        "import gzip\n",
        "import idx2numpy \n",
        "import numpy as np\n",
        "import matplotlib.pyplot as plt\n",
        "\n",
        "import torch\n",
        "import torch.nn as nn\n",
        "import torch.nn.functional as F\n",
        "import torch.optim as optim\n",
        "from torchsummary import summary\n",
        "from torch.utils.data import Dataset, DataLoader\n",
        "\n",
        "!pip install torchsummary\n",
        "from torchsummary import summary\n",
        "from torchvision import transforms, datasets\n"
      ],
      "execution_count": 1,
      "outputs": [
        {
          "output_type": "stream",
          "text": [
            "Collecting idx2numpy\n",
            "  Downloading https://files.pythonhosted.org/packages/7e/6b/80628f6cc2f44d80b27f1ef7b57b257ed4c73766113b77d13ad110c091b4/idx2numpy-1.2.3.tar.gz\n",
            "Requirement already satisfied: numpy in /usr/local/lib/python3.7/dist-packages (from idx2numpy) (1.19.5)\n",
            "Requirement already satisfied: six in /usr/local/lib/python3.7/dist-packages (from idx2numpy) (1.15.0)\n",
            "Building wheels for collected packages: idx2numpy\n",
            "  Building wheel for idx2numpy (setup.py) ... \u001b[?25l\u001b[?25hdone\n",
            "  Created wheel for idx2numpy: filename=idx2numpy-1.2.3-cp37-none-any.whl size=7907 sha256=d5c6cd96718d01bad4d851864b005ea5b83d7417cf90d5548356f4ccb9ab1f3c\n",
            "  Stored in directory: /root/.cache/pip/wheels/7a/c1/da/284ce80a748fab898b8d1fa95468a386e7cf3b81da18511f9d\n",
            "Successfully built idx2numpy\n",
            "Installing collected packages: idx2numpy\n",
            "Successfully installed idx2numpy-1.2.3\n",
            "Requirement already satisfied: torchsummary in /usr/local/lib/python3.7/dist-packages (1.5.1)\n"
          ],
          "name": "stdout"
        }
      ]
    },
    {
      "cell_type": "code",
      "metadata": {
        "colab": {
          "base_uri": "https://localhost:8080/"
        },
        "id": "z4A7MykkmQfS",
        "outputId": "d6e50c49-ed45-48f0-d79e-3d9c3e10cad3"
      },
      "source": [
        "torch.manual_seed(1)"
      ],
      "execution_count": 2,
      "outputs": [
        {
          "output_type": "execute_result",
          "data": {
            "text/plain": [
              "<torch._C.Generator at 0x7f8faadb37f0>"
            ]
          },
          "metadata": {
            "tags": []
          },
          "execution_count": 2
        }
      ]
    },
    {
      "cell_type": "markdown",
      "metadata": {
        "id": "9mxTALllLUi0"
      },
      "source": [
        "### Download data"
      ]
    },
    {
      "cell_type": "code",
      "metadata": {
        "colab": {
          "base_uri": "https://localhost:8080/"
        },
        "id": "uNGS4O4gGRT0",
        "outputId": "bff619d1-9fc9-42b3-8627-b6ec6c3a4331"
      },
      "source": [
        "!wget https://data.deepai.org/mnist.zip && unzip mnist.zip && gzip -d *.gz"
      ],
      "execution_count": 3,
      "outputs": [
        {
          "output_type": "stream",
          "text": [
            "--2021-05-21 20:04:40--  https://data.deepai.org/mnist.zip\n",
            "Resolving data.deepai.org (data.deepai.org)... 138.201.36.183\n",
            "Connecting to data.deepai.org (data.deepai.org)|138.201.36.183|:443... connected.\n",
            "HTTP request sent, awaiting response... 200 OK\n",
            "Length: 11597176 (11M) [application/x-zip-compressed]\n",
            "Saving to: ‘mnist.zip’\n",
            "\n",
            "mnist.zip           100%[===================>]  11.06M  5.53MB/s    in 2.0s    \n",
            "\n",
            "2021-05-21 20:04:43 (5.53 MB/s) - ‘mnist.zip’ saved [11597176/11597176]\n",
            "\n",
            "Archive:  mnist.zip\n",
            "  inflating: train-labels-idx1-ubyte.gz  \n",
            "  inflating: train-images-idx3-ubyte.gz  \n",
            "  inflating: t10k-images-idx3-ubyte.gz  \n",
            "  inflating: t10k-labels-idx1-ubyte.gz  \n"
          ],
          "name": "stdout"
        }
      ]
    },
    {
      "cell_type": "code",
      "metadata": {
        "colab": {
          "base_uri": "https://localhost:8080/"
        },
        "id": "wGMOH7mlLnj8",
        "outputId": "8f0f4675-22e0-4a5f-bf5b-18dca0d84b7f"
      },
      "source": [
        "train_images = idx2numpy.convert_from_file('train-images-idx3-ubyte')\n",
        "train_label = idx2numpy.convert_from_file('train-labels-idx1-ubyte')\n",
        "test_images = idx2numpy.convert_from_file('t10k-images-idx3-ubyte')\n",
        "test_labels = idx2numpy.convert_from_file('t10k-labels-idx1-ubyte')\n",
        "print(\"Training data shape: \", train_images.shape)\n",
        "print(\"Training data labels shape: \", train_label.shape)\n",
        "print(\"Training data shape: \", test_images.shape)\n",
        "print(\"Training data labels shape: \", test_labels.shape)"
      ],
      "execution_count": 4,
      "outputs": [
        {
          "output_type": "stream",
          "text": [
            "Training data shape:  (60000, 28, 28)\n",
            "Training data labels shape:  (60000,)\n",
            "Training data shape:  (10000, 28, 28)\n",
            "Training data labels shape:  (10000,)\n"
          ],
          "name": "stdout"
        }
      ]
    },
    {
      "cell_type": "code",
      "metadata": {
        "colab": {
          "base_uri": "https://localhost:8080/"
        },
        "id": "Ed1Pa3HZu0C3",
        "outputId": "4133e12f-41f8-4ff8-9c40-922cad94e0b6"
      },
      "source": [
        "one_image = train_images[0]\n",
        "print(one_image.shape)\n",
        "one_image = np.expand_dims(one_image, axis=2)\n",
        "print(one_image.shape)"
      ],
      "execution_count": 5,
      "outputs": [
        {
          "output_type": "stream",
          "text": [
            "(28, 28)\n",
            "(28, 28, 1)\n"
          ],
          "name": "stdout"
        }
      ]
    },
    {
      "cell_type": "markdown",
      "metadata": {
        "id": "JBGGs4hu03Se"
      },
      "source": [
        "### Display sample images"
      ]
    },
    {
      "cell_type": "code",
      "metadata": {
        "colab": {
          "base_uri": "https://localhost:8080/",
          "height": 320
        },
        "id": "BcCEcFVjzUk8",
        "outputId": "b5314319-ced3-466f-e30b-5c59b41d4ea4"
      },
      "source": [
        "def show_digits_labels(image_list, label_list):\n",
        "    columns = 5 if len(image_list) >= 5 else len(image_list)\n",
        "    rows = int(len(image_list)/5 + 1) if len(image_list)%5 > 0 else int(len(image_list)/5)\n",
        "    print(rows, columns)\n",
        "    fig, axs = plt.subplots(rows, columns, squeeze=False)\n",
        "    fig.tight_layout()\n",
        "\n",
        "    for i in range(len(image_list)):\n",
        "        # print(i//columns, i%columns)\n",
        "        # fig.delaxes(axs[-1][-1])\n",
        "        axs[i//columns][i%columns].axis('off')\n",
        "        axs[i//columns][i%columns].set_title(f'Label: {label_list[i]}')\n",
        "        axs[i//columns][i%columns].imshow(image_list[i])\n",
        "\n",
        "show_digits_labels(train_images[:11], train_label[:11])"
      ],
      "execution_count": 6,
      "outputs": [
        {
          "output_type": "stream",
          "text": [
            "3 5\n"
          ],
          "name": "stdout"
        },
        {
          "output_type": "display_data",
          "data": {
            "image/png": "[encoded data removed]",
            "text/plain": [
              "<Figure size 432x288 with 15 Axes>"
            ]
          },
          "metadata": {
            "tags": [],
            "needs_background": "light"
          }
        }
      ]
    },
    {
      "cell_type": "markdown",
      "metadata": {
        "id": "ga0Ki7cUkTN9"
      },
      "source": [
        "### Dataset, transformer and dataloader"
      ]
    },
    {
      "cell_type": "markdown",
      "metadata": {
        "id": "6gIUsUFkq97d"
      },
      "source": [
        "#### Custom dataset\n",
        "\n",
        "To return MNIST image, label, random number and sum of the same random number and MNIST label."
      ]
    },
    {
      "cell_type": "code",
      "metadata": {
        "id": "PptEzSn8Yp92"
      },
      "source": [
        "class MNIST_digits_randomNum(Dataset):\n",
        "    def __init__(self, image_set, label_set, transform = None):\n",
        "        self.image_set = image_set\n",
        "        self.label_set = label_set\n",
        "        self.transform = transform\n",
        "    \n",
        "    def __len__(self):\n",
        "        return len(self.image_set)\n",
        "    \n",
        "    def __getitem__(self, idx):\n",
        "        # Single image is nd.array of shape (H,W). Need data to be in shape -(H x W x C). totensor() transform will then convert into (C x H x W) [0-1] range\n",
        "        data = np.expand_dims((self.image_set[idx]), axis=2)\n",
        "        # Need int64 for Runtime error (got scalar type Byte) at CrossEntropyLoss calculation\n",
        "        target = torch.tensor(self.label_set[idx], dtype=torch.int64)\n",
        "        rand_num = torch.tensor(np.random.randint(0,10))\n",
        "        sum_of_digits = target + rand_num\n",
        "\n",
        "        if self.transform:\n",
        "            data = self.transform(data)\n",
        "\n",
        "        return {\"data\": data, \"target\": target, \"rand_num\": rand_num, \"sum_of_digits\": sum_of_digits}      \n"
      ],
      "execution_count": 7,
      "outputs": []
    },
    {
      "cell_type": "markdown",
      "metadata": {
        "id": "mBwwYfzfrliD"
      },
      "source": [
        "#### Transformer\n",
        "\n",
        "Test transform with totensor and normalization. "
      ]
    },
    {
      "cell_type": "code",
      "metadata": {
        "id": "6lZsBuExqpBU"
      },
      "source": [
        "train_transforms = transforms.Compose([\n",
        "                                      #  transforms.Resize((28, 28)),\n",
        "                                      #  transforms.ColorJitter(brightness=0.10, contrast=0.1, saturation=0.10, hue=0.1),\n",
        "                                    #    transforms.RandomRotation((-7.0, 7.0), fill=(1,)),\n",
        "                                       transforms.ToTensor(),\n",
        "                                       transforms.Normalize((0.1307,), (0.3081,)) # The mean and std have to be sequences (e.g., tuples), therefore you should add a comma after the values. \n",
        "                                       # Note the difference between (0.1307) and (0.1307,)\n",
        "                                       ])\n",
        "\n",
        "# Test Phase transformations\n",
        "test_transforms = transforms.Compose([\n",
        "                                      #  transforms.Resize((28, 28)),\n",
        "                                      #  transforms.ColorJitter(brightness=0.10, contrast=0.1, saturation=0.10, hue=0.1),\n",
        "                                       transforms.ToTensor(),\n",
        "                                       transforms.Normalize((0.1307,), (0.3081,))\n",
        "                                       ])"
      ],
      "execution_count": 8,
      "outputs": []
    },
    {
      "cell_type": "code",
      "metadata": {
        "id": "u9nxuI43gITy"
      },
      "source": [
        "train_dataset = MNIST_digits_randomNum(train_images, train_label, train_transforms)\n",
        "test_dataset = MNIST_digits_randomNum(test_images, test_labels, test_transforms)"
      ],
      "execution_count": 9,
      "outputs": []
    },
    {
      "cell_type": "code",
      "metadata": {
        "colab": {
          "base_uri": "https://localhost:8080/"
        },
        "id": "KaY-BgJbRadZ",
        "outputId": "ab148837-735a-4ae1-ad2a-8832fb63e5b2"
      },
      "source": [
        "sample = next(iter(train_dataset))\n",
        "print(\"Training set size: \", len(train_dataset))\n",
        "print(\"Sample image's shape\", sample[\"data\"].shape,  \"of type-\", type(sample[\"data\"]))\n",
        "print(\"Sample image's label: \", sample[\"target\"])\n",
        "print(\"Sample random integer of range [0, 9]: \", sample[\"rand_num\"])\n",
        "print(\"Sum of sample image's label and generated random integer: \", sample[\"sum_of_digits\"])\n",
        "\n",
        "test_sample = next(iter(test_dataset))\n",
        "print(\"Test set size: \", len(test_dataset))\n",
        "print(\"Sample image's shape\", test_sample[\"data\"].shape,  \"of type-\", type(sample[\"data\"]))\n",
        "print(\"Sample image's label: \", test_sample[\"target\"])\n",
        "print(\"Sample random integer of range [0, 9]: \", test_sample[\"rand_num\"])\n",
        "print(\"Sum of sample image's label and generated random integer: \", test_sample[\"sum_of_digits\"])"
      ],
      "execution_count": 10,
      "outputs": [
        {
          "output_type": "stream",
          "text": [
            "Training set size:  60000\n",
            "Sample image's shape torch.Size([1, 28, 28]) of type- <class 'torch.Tensor'>\n",
            "Sample image's label:  tensor(5)\n",
            "Sample random integer of range [0, 9]:  tensor(6)\n",
            "Sum of sample image's label and generated random integer:  tensor(11)\n",
            "Test set size:  10000\n",
            "Sample image's shape torch.Size([1, 28, 28]) of type- <class 'torch.Tensor'>\n",
            "Sample image's label:  tensor(7)\n",
            "Sample random integer of range [0, 9]:  tensor(7)\n",
            "Sum of sample image's label and generated random integer:  tensor(14)\n"
          ],
          "name": "stdout"
        },
        {
          "output_type": "stream",
          "text": [
            "/usr/local/lib/python3.7/dist-packages/torchvision/transforms/functional.py:114: UserWarning: The given NumPy array is not writeable, and PyTorch does not support non-writeable tensors. This means you can write to the underlying (supposedly non-writeable) NumPy array using the tensor. You may want to copy the array to protect its data or make it writeable before converting it to a tensor. This type of warning will be suppressed for the rest of this program. (Triggered internally at  /pytorch/torch/csrc/utils/tensor_numpy.cpp:143.)\n",
            "  img = torch.from_numpy(pic.transpose((2, 0, 1))).contiguous()\n"
          ],
          "name": "stderr"
        }
      ]
    },
    {
      "cell_type": "code",
      "metadata": {
        "colab": {
          "base_uri": "https://localhost:8080/"
        },
        "id": "Erpuj29atIaA",
        "outputId": "3b7e11b6-d12b-41af-d16c-2745009266c1"
      },
      "source": [
        "sample[\"data\"]"
      ],
      "execution_count": 11,
      "outputs": [
        {
          "output_type": "execute_result",
          "data": {
            "text/plain": [
              "tensor([[[-0.4242, -0.4242, -0.4242, -0.4242, -0.4242, -0.4242, -0.4242,\n",
              "          -0.4242, -0.4242, -0.4242, -0.4242, -0.4242, -0.4242, -0.4242,\n",
              "          -0.4242, -0.4242, -0.4242, -0.4242, -0.4242, -0.4242, -0.4242,\n",
              "          -0.4242, -0.4242, -0.4242, -0.4242, -0.4242, -0.4242, -0.4242],\n",
              "         [-0.4242, -0.4242, -0.4242, -0.4242, -0.4242, -0.4242, -0.4242,\n",
              "          -0.4242, -0.4242, -0.4242, -0.4242, -0.4242, -0.4242, -0.4242,\n",
              "          -0.4242, -0.4242, -0.4242, -0.4242, -0.4242, -0.4242, -0.4242,\n",
              "          -0.4242, -0.4242, -0.4242, -0.4242, -0.4242, -0.4242, -0.4242],\n",
              "         [-0.4242, -0.4242, -0.4242, -0.4242, -0.4242, -0.4242, -0.4242,\n",
              "          -0.4242, -0.4242, -0.4242, -0.4242, -0.4242, -0.4242, -0.4242,\n",
              "          -0.4242, -0.4242, -0.4242, -0.4242, -0.4242, -0.4242, -0.4242,\n",
              "          -0.4242, -0.4242, -0.4242, -0.4242, -0.4242, -0.4242, -0.4242],\n",
              "         [-0.4242, -0.4242, -0.4242, -0.4242, -0.4242, -0.4242, -0.4242,\n",
              "          -0.4242, -0.4242, -0.4242, -0.4242, -0.4242, -0.4242, -0.4242,\n",
              "          -0.4242, -0.4242, -0.4242, -0.4242, -0.4242, -0.4242, -0.4242,\n",
              "          -0.4242, -0.4242, -0.4242, -0.4242, -0.4242, -0.4242, -0.4242],\n",
              "         [-0.4242, -0.4242, -0.4242, -0.4242, -0.4242, -0.4242, -0.4242,\n",
              "          -0.4242, -0.4242, -0.4242, -0.4242, -0.4242, -0.4242, -0.4242,\n",
              "          -0.4242, -0.4242, -0.4242, -0.4242, -0.4242, -0.4242, -0.4242,\n",
              "          -0.4242, -0.4242, -0.4242, -0.4242, -0.4242, -0.4242, -0.4242],\n",
              "         [-0.4242, -0.4242, -0.4242, -0.4242, -0.4242, -0.4242, -0.4242,\n",
              "          -0.4242, -0.4242, -0.4242, -0.4242, -0.4242, -0.3860, -0.1951,\n",
              "          -0.1951, -0.1951,  1.1795,  1.3068,  1.8032, -0.0933,  1.6887,\n",
              "           2.8215,  2.7197,  1.1923, -0.4242, -0.4242, -0.4242, -0.4242],\n",
              "         [-0.4242, -0.4242, -0.4242, -0.4242, -0.4242, -0.4242, -0.4242,\n",
              "          -0.4242, -0.0424,  0.0340,  0.7722,  1.5359,  1.7396,  2.7960,\n",
              "           2.7960,  2.7960,  2.7960,  2.7960,  2.4396,  1.7650,  2.7960,\n",
              "           2.6560,  2.0578,  0.3904, -0.4242, -0.4242, -0.4242, -0.4242],\n",
              "         [-0.4242, -0.4242, -0.4242, -0.4242, -0.4242, -0.4242, -0.4242,\n",
              "           0.1995,  2.6051,  2.7960,  2.7960,  2.7960,  2.7960,  2.7960,\n",
              "           2.7960,  2.7960,  2.7960,  2.7706,  0.7595,  0.6195,  0.6195,\n",
              "           0.2886,  0.0722, -0.4242, -0.4242, -0.4242, -0.4242, -0.4242],\n",
              "         [-0.4242, -0.4242, -0.4242, -0.4242, -0.4242, -0.4242, -0.4242,\n",
              "          -0.1951,  2.3633,  2.7960,  2.7960,  2.7960,  2.7960,  2.7960,\n",
              "           2.0960,  1.8923,  2.7197,  2.6433, -0.4242, -0.4242, -0.4242,\n",
              "          -0.4242, -0.4242, -0.4242, -0.4242, -0.4242, -0.4242, -0.4242],\n",
              "         [-0.4242, -0.4242, -0.4242, -0.4242, -0.4242, -0.4242, -0.4242,\n",
              "          -0.4242,  0.5940,  1.5614,  0.9377,  2.7960,  2.7960,  2.1851,\n",
              "          -0.2842, -0.4242,  0.1231,  1.5359, -0.4242, -0.4242, -0.4242,\n",
              "          -0.4242, -0.4242, -0.4242, -0.4242, -0.4242, -0.4242, -0.4242],\n",
              "         [-0.4242, -0.4242, -0.4242, -0.4242, -0.4242, -0.4242, -0.4242,\n",
              "          -0.4242, -0.4242, -0.2460, -0.4115,  1.5359,  2.7960,  0.7213,\n",
              "          -0.4242, -0.4242, -0.4242, -0.4242, -0.4242, -0.4242, -0.4242,\n",
              "          -0.4242, -0.4242, -0.4242, -0.4242, -0.4242, -0.4242, -0.4242],\n",
              "         [-0.4242, -0.4242, -0.4242, -0.4242, -0.4242, -0.4242, -0.4242,\n",
              "          -0.4242, -0.4242, -0.4242, -0.4242,  1.3450,  2.7960,  1.9942,\n",
              "          -0.3988, -0.4242, -0.4242, -0.4242, -0.4242, -0.4242, -0.4242,\n",
              "          -0.4242, -0.4242, -0.4242, -0.4242, -0.4242, -0.4242, -0.4242],\n",
              "         [-0.4242, -0.4242, -0.4242, -0.4242, -0.4242, -0.4242, -0.4242,\n",
              "          -0.4242, -0.4242, -0.4242, -0.4242, -0.2842,  1.9942,  2.7960,\n",
              "           0.4668, -0.4242, -0.4242, -0.4242, -0.4242, -0.4242, -0.4242,\n",
              "          -0.4242, -0.4242, -0.4242, -0.4242, -0.4242, -0.4242, -0.4242],\n",
              "         [-0.4242, -0.4242, -0.4242, -0.4242, -0.4242, -0.4242, -0.4242,\n",
              "          -0.4242, -0.4242, -0.4242, -0.4242, -0.4242,  0.0213,  2.6433,\n",
              "           2.4396,  1.6123,  0.9504, -0.4115, -0.4242, -0.4242, -0.4242,\n",
              "          -0.4242, -0.4242, -0.4242, -0.4242, -0.4242, -0.4242, -0.4242],\n",
              "         [-0.4242, -0.4242, -0.4242, -0.4242, -0.4242, -0.4242, -0.4242,\n",
              "          -0.4242, -0.4242, -0.4242, -0.4242, -0.4242, -0.4242,  0.6068,\n",
              "           2.6306,  2.7960,  2.7960,  1.0904, -0.1060, -0.4242, -0.4242,\n",
              "          -0.4242, -0.4242, -0.4242, -0.4242, -0.4242, -0.4242, -0.4242],\n",
              "         [-0.4242, -0.4242, -0.4242, -0.4242, -0.4242, -0.4242, -0.4242,\n",
              "          -0.4242, -0.4242, -0.4242, -0.4242, -0.4242, -0.4242, -0.4242,\n",
              "           0.1486,  1.9432,  2.7960,  2.7960,  1.4850, -0.0806, -0.4242,\n",
              "          -0.4242, -0.4242, -0.4242, -0.4242, -0.4242, -0.4242, -0.4242],\n",
              "         [-0.4242, -0.4242, -0.4242, -0.4242, -0.4242, -0.4242, -0.4242,\n",
              "          -0.4242, -0.4242, -0.4242, -0.4242, -0.4242, -0.4242, -0.4242,\n",
              "          -0.4242, -0.2206,  0.7595,  2.7833,  2.7960,  1.9560, -0.4242,\n",
              "          -0.4242, -0.4242, -0.4242, -0.4242, -0.4242, -0.4242, -0.4242],\n",
              "         [-0.4242, -0.4242, -0.4242, -0.4242, -0.4242, -0.4242, -0.4242,\n",
              "          -0.4242, -0.4242, -0.4242, -0.4242, -0.4242, -0.4242, -0.4242,\n",
              "          -0.4242, -0.4242, -0.4242,  2.7451,  2.7960,  2.7451,  0.3904,\n",
              "          -0.4242, -0.4242, -0.4242, -0.4242, -0.4242, -0.4242, -0.4242],\n",
              "         [-0.4242, -0.4242, -0.4242, -0.4242, -0.4242, -0.4242, -0.4242,\n",
              "          -0.4242, -0.4242, -0.4242, -0.4242, -0.4242, -0.4242, -0.4242,\n",
              "           0.1613,  1.2305,  1.9051,  2.7960,  2.7960,  2.2105, -0.3988,\n",
              "          -0.4242, -0.4242, -0.4242, -0.4242, -0.4242, -0.4242, -0.4242],\n",
              "         [-0.4242, -0.4242, -0.4242, -0.4242, -0.4242, -0.4242, -0.4242,\n",
              "          -0.4242, -0.4242, -0.4242, -0.4242, -0.4242,  0.0722,  1.4596,\n",
              "           2.4906,  2.7960,  2.7960,  2.7960,  2.7578,  1.8923, -0.4242,\n",
              "          -0.4242, -0.4242, -0.4242, -0.4242, -0.4242, -0.4242, -0.4242],\n",
              "         [-0.4242, -0.4242, -0.4242, -0.4242, -0.4242, -0.4242, -0.4242,\n",
              "          -0.4242, -0.4242, -0.4242, -0.1187,  1.0268,  2.3887,  2.7960,\n",
              "           2.7960,  2.7960,  2.7960,  2.1342,  0.5686, -0.4242, -0.4242,\n",
              "          -0.4242, -0.4242, -0.4242, -0.4242, -0.4242, -0.4242, -0.4242],\n",
              "         [-0.4242, -0.4242, -0.4242, -0.4242, -0.4242, -0.4242, -0.4242,\n",
              "          -0.4242, -0.1315,  0.4159,  2.2869,  2.7960,  2.7960,  2.7960,\n",
              "           2.7960,  2.0960,  0.6068, -0.3988, -0.4242, -0.4242, -0.4242,\n",
              "          -0.4242, -0.4242, -0.4242, -0.4242, -0.4242, -0.4242, -0.4242],\n",
              "         [-0.4242, -0.4242, -0.4242, -0.4242, -0.4242, -0.4242, -0.1951,\n",
              "           1.7523,  2.3633,  2.7960,  2.7960,  2.7960,  2.7960,  2.0578,\n",
              "           0.5940, -0.3097, -0.4242, -0.4242, -0.4242, -0.4242, -0.4242,\n",
              "          -0.4242, -0.4242, -0.4242, -0.4242, -0.4242, -0.4242, -0.4242],\n",
              "         [-0.4242, -0.4242, -0.4242, -0.4242,  0.2758,  1.7650,  2.4524,\n",
              "           2.7960,  2.7960,  2.7960,  2.7960,  2.6815,  1.2686, -0.2842,\n",
              "          -0.4242, -0.4242, -0.4242, -0.4242, -0.4242, -0.4242, -0.4242,\n",
              "          -0.4242, -0.4242, -0.4242, -0.4242, -0.4242, -0.4242, -0.4242],\n",
              "         [-0.4242, -0.4242, -0.4242, -0.4242,  1.3068,  2.7960,  2.7960,\n",
              "           2.7960,  2.2742,  1.2941,  1.2559, -0.2206, -0.4242, -0.4242,\n",
              "          -0.4242, -0.4242, -0.4242, -0.4242, -0.4242, -0.4242, -0.4242,\n",
              "          -0.4242, -0.4242, -0.4242, -0.4242, -0.4242, -0.4242, -0.4242],\n",
              "         [-0.4242, -0.4242, -0.4242, -0.4242, -0.4242, -0.4242, -0.4242,\n",
              "          -0.4242, -0.4242, -0.4242, -0.4242, -0.4242, -0.4242, -0.4242,\n",
              "          -0.4242, -0.4242, -0.4242, -0.4242, -0.4242, -0.4242, -0.4242,\n",
              "          -0.4242, -0.4242, -0.4242, -0.4242, -0.4242, -0.4242, -0.4242],\n",
              "         [-0.4242, -0.4242, -0.4242, -0.4242, -0.4242, -0.4242, -0.4242,\n",
              "          -0.4242, -0.4242, -0.4242, -0.4242, -0.4242, -0.4242, -0.4242,\n",
              "          -0.4242, -0.4242, -0.4242, -0.4242, -0.4242, -0.4242, -0.4242,\n",
              "          -0.4242, -0.4242, -0.4242, -0.4242, -0.4242, -0.4242, -0.4242],\n",
              "         [-0.4242, -0.4242, -0.4242, -0.4242, -0.4242, -0.4242, -0.4242,\n",
              "          -0.4242, -0.4242, -0.4242, -0.4242, -0.4242, -0.4242, -0.4242,\n",
              "          -0.4242, -0.4242, -0.4242, -0.4242, -0.4242, -0.4242, -0.4242,\n",
              "          -0.4242, -0.4242, -0.4242, -0.4242, -0.4242, -0.4242, -0.4242]]])"
            ]
          },
          "metadata": {
            "tags": []
          },
          "execution_count": 11
        }
      ]
    },
    {
      "cell_type": "code",
      "metadata": {
        "id": "gTU_Ol8GtXH1"
      },
      "source": [
        "# Train and test dataloaders\n",
        "batch_size = 128\n",
        "train_loader = DataLoader(train_dataset, batch_size=batch_size, shuffle=True, num_workers=2, pin_memory=True)\n",
        "test_loader = DataLoader(test_dataset, batch_size=batch_size, shuffle=True, num_workers=2, pin_memory=True)"
      ],
      "execution_count": 12,
      "outputs": []
    },
    {
      "cell_type": "code",
      "metadata": {
        "colab": {
          "base_uri": "https://localhost:8080/"
        },
        "id": "lGaidsmpv1eH",
        "outputId": "416dbaa7-3da4-4acd-93a1-96540a61f606"
      },
      "source": [
        "sample = next(iter(train_loader))\n",
        "print(sample[\"target\"].shape, sample[\"rand_num\"].shape, sample[\"sum_of_digits\"].shape)\n",
        "sample[\"target\"], sample[\"rand_num\"], sample[\"sum_of_digits\"], sample[\"target\"].shape, sample[\"target\"][0], sample[\"target\"][0].dtype"
      ],
      "execution_count": 13,
      "outputs": [
        {
          "output_type": "stream",
          "text": [
            "torch.Size([128]) torch.Size([128]) torch.Size([128])\n"
          ],
          "name": "stdout"
        },
        {
          "output_type": "execute_result",
          "data": {
            "text/plain": [
              "(tensor([6, 1, 4, 0, 7, 1, 8, 9, 0, 1, 2, 4, 2, 5, 9, 3, 9, 5, 1, 4, 1, 1, 3, 3,\n",
              "         2, 4, 3, 7, 8, 8, 1, 1, 4, 5, 4, 5, 0, 1, 0, 0, 7, 3, 7, 5, 0, 4, 1, 5,\n",
              "         3, 7, 9, 4, 6, 2, 6, 8, 5, 1, 5, 0, 0, 0, 3, 9, 9, 2, 4, 9, 2, 0, 3, 6,\n",
              "         5, 1, 9, 8, 9, 3, 1, 6, 6, 1, 0, 3, 8, 0, 9, 8, 5, 3, 3, 0, 8, 4, 1, 9,\n",
              "         7, 0, 2, 4, 8, 4, 7, 8, 5, 6, 1, 8, 5, 8, 3, 5, 0, 3, 0, 4, 7, 4, 3, 8,\n",
              "         4, 7, 1, 5, 0, 5, 5, 7]),\n",
              " tensor([7, 9, 0, 2, 7, 8, 5, 8, 1, 3, 7, 7, 5, 8, 9, 7, 4, 7, 2, 1, 4, 5, 7, 2,\n",
              "         2, 9, 8, 6, 0, 1, 0, 1, 8, 2, 4, 3, 0, 3, 2, 1, 1, 4, 2, 8, 2, 9, 7, 0,\n",
              "         2, 8, 5, 4, 2, 1, 2, 0, 8, 3, 4, 8, 1, 8, 9, 7, 4, 4, 7, 2, 5, 4, 1, 5,\n",
              "         9, 7, 8, 3, 0, 7, 9, 2, 2, 9, 9, 9, 5, 3, 6, 5, 2, 1, 4, 9, 8, 5, 7, 2,\n",
              "         0, 6, 1, 8, 1, 6, 9, 8, 2, 1, 8, 0, 8, 3, 6, 6, 3, 3, 5, 7, 1, 3, 8, 9,\n",
              "         7, 4, 6, 6, 8, 8, 6, 0]),\n",
              " tensor([13, 10,  4,  2, 14,  9, 13, 17,  1,  4,  9, 11,  7, 13, 18, 10, 13, 12,\n",
              "          3,  5,  5,  6, 10,  5,  4, 13, 11, 13,  8,  9,  1,  2, 12,  7,  8,  8,\n",
              "          0,  4,  2,  1,  8,  7,  9, 13,  2, 13,  8,  5,  5, 15, 14,  8,  8,  3,\n",
              "          8,  8, 13,  4,  9,  8,  1,  8, 12, 16, 13,  6, 11, 11,  7,  4,  4, 11,\n",
              "         14,  8, 17, 11,  9, 10, 10,  8,  8, 10,  9, 12, 13,  3, 15, 13,  7,  4,\n",
              "          7,  9, 16,  9,  8, 11,  7,  6,  3, 12,  9, 10, 16, 16,  7,  7,  9,  8,\n",
              "         13, 11,  9, 11,  3,  6,  5, 11,  8,  7, 11, 17, 11, 11,  7, 11,  8, 13,\n",
              "         11,  7]),\n",
              " torch.Size([128]),\n",
              " tensor(6),\n",
              " torch.int64)"
            ]
          },
          "metadata": {
            "tags": []
          },
          "execution_count": 13
        }
      ]
    },
    {
      "cell_type": "code",
      "metadata": {
        "colab": {
          "base_uri": "https://localhost:8080/"
        },
        "id": "Oq9pRNkdlOsF",
        "outputId": "0f8c8b76-e9ff-41ac-cab2-d8080eb255f4"
      },
      "source": [
        "print(sample[\"data\"].shape, type(sample[\"data\"]))"
      ],
      "execution_count": 14,
      "outputs": [
        {
          "output_type": "stream",
          "text": [
            "torch.Size([128, 1, 28, 28]) <class 'torch.Tensor'>\n"
          ],
          "name": "stdout"
        }
      ]
    },
    {
      "cell_type": "markdown",
      "metadata": {
        "id": "EB1cvGRzGcCK"
      },
      "source": [
        "### CNN model"
      ]
    },
    {
      "cell_type": "code",
      "metadata": {
        "id": "o95YSH13GdQC"
      },
      "source": [
        "# Object Recognition\n",
        "class Net(nn.Module):\n",
        "    def __init__(self, batch_size, no_of_classes, sum_classes):\n",
        "        super(Net, self).__init__()\n",
        "        self.conv1 = nn.Sequential(\n",
        "            nn.Conv2d(in_channels=1, out_channels=32, kernel_size=3, padding=1, bias=False),\n",
        "            nn.BatchNorm2d(32),\n",
        "            nn.ReLU()\n",
        "            )\n",
        "        \n",
        "        self.conv2 = nn.Sequential(\n",
        "            nn.Conv2d(in_channels=32, out_channels=32, kernel_size=3, padding=1, bias=False),\n",
        "            nn.BatchNorm2d(32),\n",
        "            nn.ReLU()\n",
        "            )\n",
        "        \n",
        "        self.maxpool1 = nn.MaxPool2d(2, 2)\n",
        "\n",
        "        self.conv3 = nn.Sequential(\n",
        "            nn.Conv2d(in_channels=32, out_channels=64, kernel_size=3, padding=1, bias=False),\n",
        "            nn.BatchNorm2d(64),\n",
        "            nn.ReLU()\n",
        "            )\n",
        "        \n",
        "        self.conv4 = nn.Sequential(\n",
        "            nn.Conv2d(in_channels=64, out_channels=64, kernel_size=3, padding=1, bias=False),\n",
        "            nn.BatchNorm2d(64),\n",
        "            nn.ReLU()\n",
        "            )\n",
        "        \n",
        "        self.maxpool2 = nn.MaxPool2d(2, 2)\n",
        "\n",
        "        self.conv5 = nn.Sequential(\n",
        "            nn.Conv2d(in_channels=64, out_channels=128, kernel_size=3, padding=1, bias=False),\n",
        "            nn.BatchNorm2d(128),\n",
        "            nn.ReLU()\n",
        "            )\n",
        "        \n",
        "        self.conv6 = nn.Sequential(\n",
        "            nn.Conv2d(in_channels=128, out_channels=128, kernel_size=3, padding=1, bias=False),\n",
        "            nn.BatchNorm2d(128),\n",
        "            nn.ReLU()\n",
        "            )\n",
        "        \n",
        "        self.conv7 = nn.Sequential(\n",
        "            nn.Conv2d(in_channels=128, out_channels=256, kernel_size=3, padding=1, bias=False),\n",
        "            nn.BatchNorm2d(256),\n",
        "            nn.ReLU()\n",
        "            )\n",
        "        \n",
        "        self.conv8 = nn.Sequential(\n",
        "            nn.Conv2d(in_channels=256, out_channels=256, kernel_size=3, padding=1, bias=False),\n",
        "            nn.BatchNorm2d(256),\n",
        "            nn.ReLU()\n",
        "            )\n",
        "        \n",
        "        self.gap = nn.Sequential(\n",
        "            nn.AvgPool2d(kernel_size=7)\n",
        "        )\n",
        "\n",
        "        self.conv9 = nn.Sequential(\n",
        "            nn.Conv2d(in_channels=256, out_channels=10, kernel_size=1, padding=0, bias=False),\n",
        "            )\n",
        "        \n",
        "        self.embedding = nn.Embedding(batch_size, no_of_classes)\n",
        "\n",
        "        self.fc1 = nn.Linear(no_of_classes, no_of_classes)\n",
        "        self.fc2 = nn.Linear(no_of_classes, 6*no_of_classes)\n",
        "        self.fc3 = nn.Linear(6*no_of_classes, sum_classes)\n",
        "    \n",
        "    def forward(self, img, num):\n",
        "        img = self.conv1(img)\n",
        "        img = self.conv2(img)\n",
        "        img = self.maxpool1(img)\n",
        "        img = self.conv3(img)\n",
        "        img = self.conv4(img)\n",
        "        img = self.maxpool2(img)\n",
        "        img = self.conv5(img)\n",
        "        img = self.conv6(img)\n",
        "        img = self.conv7(img)\n",
        "        img = self.conv8(img)\n",
        "        img = self.gap(img)\n",
        "        img = self.conv9(img)\n",
        "        img = img.view(-1, 10)\n",
        "\n",
        "        num = self.embedding(num) # shape (batch_size, no_of_classes)\n",
        "        num = self.fc1(num) # shape (batch_size, no_of_classes)\n",
        "        num = img + num # Shape (batch_size, no_of_classes)\n",
        "        num = self.fc2(num)\n",
        "        num = self.fc3(num)\n",
        "        # print(\"Model shape after fc\", num.shape)\n",
        "        # print(\"Shape of output:\", x.shape)\n",
        "        return img, num   \n"
      ],
      "execution_count": 15,
      "outputs": []
    },
    {
      "cell_type": "code",
      "metadata": {
        "colab": {
          "base_uri": "https://localhost:8080/"
        },
        "id": "4oImLkHqS3xS",
        "outputId": "fb63d10c-99b3-492e-9b04-798f40584a74"
      },
      "source": [
        "# Scratch pad\n",
        "embedding = nn.Embedding(4, 10)\n",
        "input = torch.LongTensor([i for i in range(4)])\n",
        "print(embedding(input))"
      ],
      "execution_count": 16,
      "outputs": [
        {
          "output_type": "stream",
          "text": [
            "tensor([[-1.4963, -1.9321, -0.2787,  2.7942,  0.5412, -0.7137, -0.6271, -1.7801,\n",
            "          1.4233, -0.1510],\n",
            "        [-0.9050, -0.5023, -0.9596,  0.0993, -0.1224,  0.5371,  1.2711,  0.3309,\n",
            "          0.9404, -0.0993],\n",
            "        [ 0.5637,  1.3034,  0.2948,  0.4082, -0.6721, -0.0880, -1.8163, -1.0159,\n",
            "          0.0214, -0.2878],\n",
            "        [-0.8461, -0.6772,  0.6593,  0.9987, -0.1785, -0.5812,  1.1510,  0.3524,\n",
            "          1.9520, -0.6267]], grad_fn=<EmbeddingBackward>)\n"
          ],
          "name": "stdout"
        }
      ]
    },
    {
      "cell_type": "code",
      "metadata": {
        "id": "02ibTB8h_Ujj",
        "colab": {
          "base_uri": "https://localhost:8080/"
        },
        "outputId": "5ae981ae-1fd8-4e02-83b0-ba7eb742560c"
      },
      "source": [
        "use_cuda = torch.cuda.is_available()\n",
        "no_of_classes = 10\n",
        "sum_classes = 19\n",
        "# hid_dim =\n",
        "device = torch.device(\"cuda\" if use_cuda else \"cpu\")\n",
        "print(\"Available device:\",device)\n",
        "model = Net(batch_size, no_of_classes, sum_classes).to(device)\n",
        "# summary(model, input_size=(1, 28, 28), )"
      ],
      "execution_count": 17,
      "outputs": [
        {
          "output_type": "stream",
          "text": [
            "Available device: cuda\n"
          ],
          "name": "stdout"
        }
      ]
    },
    {
      "cell_type": "markdown",
      "metadata": {
        "id": "HYr3U78vTw53"
      },
      "source": [
        "### Train and Test"
      ]
    },
    {
      "cell_type": "code",
      "metadata": {
        "id": "QQaI0724QFhI"
      },
      "source": [
        "# Train\n",
        "# batch = {\"data\": data, \"target\": target, \"rand_num\": rand_num, \"sum_of_digits\": sum_of_digits}\n",
        "def train(model, device, train_loader, optimizer, criterion_digit, criterion_sum):\n",
        "    model.train()\n",
        "\n",
        "    # collect stats - for accuracy calculation\n",
        "    correct_digit = 0\n",
        "    correct_sum = 0\n",
        "    processed = 0\n",
        "    epoch_loss = 0\n",
        "\n",
        "    epoch_sum_loss = 0\n",
        "    epoch_digit_loss = 0\n",
        "\n",
        "    for batch_id, batch in enumerate(train_loader):\n",
        "        data = batch[\"data\"].to(device)\n",
        "        target = batch[\"target\"].to(device)\n",
        "        rand_num = batch[\"rand_num\"].to(device)\n",
        "        sum_of_digits = batch[\"sum_of_digits\"].to(device)\n",
        "\n",
        "        optimizer.zero_grad()\n",
        "\n",
        "        # Gather prediction and calculate loss + backward pass + optimize weights\n",
        "        digit_pred, sum_pred = model(data, rand_num)\n",
        "        # print(\"Train: \", digit_pred.shape)\n",
        "        digit_loss = criterion_digit(digit_pred, target)\n",
        "        sum_loss = criterion_sum(sum_pred, sum_of_digits)\n",
        "\n",
        "        loss = digit_loss + sum_loss\n",
        "\n",
        "        # Calculate gradients\n",
        "        loss.backward()\n",
        "        # Optimizer\n",
        "        optimizer.step()\n",
        "\n",
        "        # Metrics calculation- For epoch Accuracy(total correct pred/total items) and loss \n",
        "        pred_digit = digit_pred.argmax(dim=1, keepdim=True)\n",
        "        correct_digit += pred_digit.eq(target.view_as(pred_digit)).sum().item()\n",
        "        processed += len(data)\n",
        "\n",
        "        pred_sum = sum_pred.argmax(dim=1, keepdim=True)\n",
        "        correct_sum += pred_sum.eq(sum_of_digits.view_as(pred_sum)).sum().item()\n",
        "\n",
        "        epoch_loss += loss.item()\n",
        "        epoch_digit_loss += digit_loss.item()\n",
        "        epoch_sum_loss += sum_loss.item()       \n",
        "\n",
        "    \n",
        "    epoch_digit_accuracy = (100*correct_digit/processed)\n",
        "    epoch_sum_accuracy = (100*correct_sum/processed)\n",
        "\n",
        "    epoch_loss /= len(train_loader)\n",
        "    print(f\"Train set: Epoch Digit Accuracy: {round(epoch_digit_accuracy, 2)} Epoch Sum Accuracy: {round(epoch_sum_accuracy, 2)}  Epoch Loss: {round(epoch_loss, 4)}\")\n",
        "\n",
        "    return epoch_digit_accuracy, epoch_sum_accuracy, epoch_loss"
      ],
      "execution_count": 18,
      "outputs": []
    },
    {
      "cell_type": "code",
      "metadata": {
        "id": "cbR2WFCkZZpe"
      },
      "source": [
        "# Test\n",
        "def test(model, device, test_loader, criterion_digit, criterion_sum):\n",
        "    model.eval()\n",
        "\n",
        "    # collect stats - for accuracy calculation\n",
        "    correct_digit = 0\n",
        "    correct_sum = 0\n",
        "    processed = 0\n",
        "    epoch_loss = 0\n",
        "\n",
        "    epoch_sum_loss = 0\n",
        "    epoch_digit_loss = 0\n",
        "\n",
        "    with torch.no_grad():        \n",
        "        for batch_id, batch in enumerate(test_loader):\n",
        "            data = batch[\"data\"].to(device)\n",
        "            target = batch[\"target\"].to(device)\n",
        "            rand_num = batch[\"rand_num\"].to(device)\n",
        "            sum_of_digits = batch[\"sum_of_digits\"].to(device)\n",
        "\n",
        "            digit_pred, sum_pred = model(data, rand_num)\n",
        "            digit_loss = criterion_digit(digit_pred, target)\n",
        "            sum_loss = criterion_sum(sum_pred, sum_of_digits)\n",
        "\n",
        "            loss = digit_loss + sum_loss\n",
        "\n",
        "            # Metrics calculation\n",
        "            pred_digit = digit_pred.argmax(dim=1, keepdim=True)\n",
        "            correct_digit += pred_digit.eq(target.view_as(pred_digit)).sum().item()\n",
        "            processed += len(data)\n",
        "            pred_sum = sum_pred.argmax(dim=1, keepdim=True)\n",
        "            correct_sum += pred_sum.eq(sum_of_digits.view_as(pred_sum)).sum().item()\n",
        "\n",
        "            epoch_loss += loss.item()\n",
        "        \n",
        "    epoch_digit_accuracy = (100*correct_digit/processed)\n",
        "    epoch_sum_accuracy = (100*correct_sum/processed)\n",
        "\n",
        "    epoch_loss /= len(test_loader)\n",
        "    print(f\"Test set: Epoch Digit Accuracy: {round(epoch_digit_accuracy, 2)} Epoch Sum Accuracy: {round(epoch_sum_accuracy, 2)}  Epoch Loss: {round(epoch_loss, 4)}\")\n",
        "    return epoch_digit_accuracy, epoch_sum_accuracy, epoch_loss"
      ],
      "execution_count": 19,
      "outputs": []
    },
    {
      "cell_type": "markdown",
      "metadata": {
        "id": "1wl3vHaLiQ6u"
      },
      "source": [
        "### Model training and validation"
      ]
    },
    {
      "cell_type": "code",
      "metadata": {
        "colab": {
          "base_uri": "https://localhost:8080/"
        },
        "id": "3UFDY4dhiJaB",
        "outputId": "fd132e89-a0c2-42fb-8559-2d5a680ead1d"
      },
      "source": [
        "EPOCHS = 10\n",
        "train_digit_accuracy = []\n",
        "train_sum_accuracy = []\n",
        "test_digit_accuracy = []\n",
        "test_sum_accuracy = []\n",
        "train_loss = []\n",
        "test_loss = []\n",
        "\n",
        "# Optimization algorithm from torch.optim\n",
        "optimizer = optim.SGD(model.parameters(), lr=0.04, momentum=0.9)\n",
        "# Loss condition\n",
        "criterion_digit = nn.CrossEntropyLoss()\n",
        "criterion_sum = nn.CrossEntropyLoss()\n",
        "\n",
        "for epochs in range(EPOCHS):\n",
        "    print(f\"Epoch: {epochs}\")\n",
        "    train_digit_acc_delta, train_sum_acc_delta, train_loss_delta = train(model, device, train_loader, optimizer, criterion_digit, criterion_sum)\n",
        "    test_digit_acc_delta, test_sum_acc_delta, test_loss_delta = test(model, device, test_loader, criterion_digit, criterion_sum)\n",
        "\n",
        "    train_digit_accuracy.append(round(train_digit_acc_delta, 2))\n",
        "    train_sum_accuracy.append(round(train_sum_acc_delta, 2))\n",
        "    train_loss.append(round(train_loss_delta, 4))\n",
        "    test_digit_accuracy.append(round(test_digit_acc_delta, 2))\n",
        "    test_sum_accuracy.append(round(test_sum_acc_delta, 2))\n",
        "    test_loss.append(round(test_loss_delta, 4))\n"
      ],
      "execution_count": 20,
      "outputs": [
        {
          "output_type": "stream",
          "text": [
            "Epoch: 0\n",
            "Train set: Epoch Digit Accuracy: 96.08 Epoch Sum Accuracy: 41.18  Epoch Loss: 1.6582\n",
            "Test set: Epoch Digit Accuracy: 97.61 Epoch Sum Accuracy: 52.92  Epoch Loss: 1.3373\n",
            "Epoch: 1\n",
            "Train set: Epoch Digit Accuracy: 98.9 Epoch Sum Accuracy: 58.24  Epoch Loss: 1.0909\n",
            "Test set: Epoch Digit Accuracy: 98.98 Epoch Sum Accuracy: 57.97  Epoch Loss: 1.0428\n",
            "Epoch: 2\n",
            "Train set: Epoch Digit Accuracy: 99.08 Epoch Sum Accuracy: 67.26  Epoch Loss: 0.9203\n",
            "Test set: Epoch Digit Accuracy: 99.15 Epoch Sum Accuracy: 72.02  Epoch Loss: 0.8079\n",
            "Epoch: 3\n",
            "Train set: Epoch Digit Accuracy: 99.16 Epoch Sum Accuracy: 70.25  Epoch Loss: 0.8553\n",
            "Test set: Epoch Digit Accuracy: 99.18 Epoch Sum Accuracy: 78.07  Epoch Loss: 0.8435\n",
            "Epoch: 4\n",
            "Train set: Epoch Digit Accuracy: 99.29 Epoch Sum Accuracy: 75.56  Epoch Loss: 0.7466\n",
            "Test set: Epoch Digit Accuracy: 99.15 Epoch Sum Accuracy: 61.13  Epoch Loss: 1.2214\n",
            "Epoch: 5\n",
            "Train set: Epoch Digit Accuracy: 99.31 Epoch Sum Accuracy: 77.44  Epoch Loss: 0.7174\n",
            "Test set: Epoch Digit Accuracy: 99.14 Epoch Sum Accuracy: 76.4  Epoch Loss: 0.813\n",
            "Epoch: 6\n",
            "Train set: Epoch Digit Accuracy: 99.43 Epoch Sum Accuracy: 80.5  Epoch Loss: 0.6442\n",
            "Test set: Epoch Digit Accuracy: 99.1 Epoch Sum Accuracy: 88.82  Epoch Loss: 0.5757\n",
            "Epoch: 7\n",
            "Train set: Epoch Digit Accuracy: 99.43 Epoch Sum Accuracy: 84.12  Epoch Loss: 0.5857\n",
            "Test set: Epoch Digit Accuracy: 99.5 Epoch Sum Accuracy: 89.8  Epoch Loss: 0.5175\n",
            "Epoch: 8\n",
            "Train set: Epoch Digit Accuracy: 99.55 Epoch Sum Accuracy: 86.21  Epoch Loss: 0.522\n",
            "Test set: Epoch Digit Accuracy: 99.24 Epoch Sum Accuracy: 86.93  Epoch Loss: 0.8026\n",
            "Epoch: 9\n",
            "Train set: Epoch Digit Accuracy: 99.53 Epoch Sum Accuracy: 88.5  Epoch Loss: 0.475\n",
            "Test set: Epoch Digit Accuracy: 99.32 Epoch Sum Accuracy: 94.57  Epoch Loss: 0.4518\n"
          ],
          "name": "stdout"
        }
      ]
    },
    {
      "cell_type": "markdown",
      "metadata": {
        "id": "wKqpNMHkkjrG"
      },
      "source": [
        "### Test Results"
      ]
    },
    {
      "cell_type": "code",
      "metadata": {
        "colab": {
          "base_uri": "https://localhost:8080/",
          "height": 688
        },
        "id": "4Mbnsjprki03",
        "outputId": "7086c9b5-e71b-4888-90ac-b3efb726c7e0"
      },
      "source": [
        "%matplotlib inline\n",
        "\n",
        "fig, axs = plt.subplots(2,2,figsize=(15,10))\n",
        "axs[0, 0].plot(train_loss)\n",
        "axs[0, 0].set_title(\"Training Loss\")\n",
        "axs[0, 0].set_xlabel(\"Epoch\")\n",
        "axs[0, 0].set_ylabel(\"Loss\")\n",
        "axs[0, 0].legend(loc=\"best\")\n",
        "\n",
        "axs[1, 0].plot(train_digit_accuracy, label=\"MNIST Digit prediction accuracy\")\n",
        "axs[1, 0].plot(train_sum_accuracy, label=\"Random_num + MNIST sum accuracy\")\n",
        "axs[1, 0].set_title(\"Training Accuracy\")\n",
        "axs[1, 0].set_xlabel(\"Epoch\")\n",
        "axs[1, 0].set_ylabel(\"Accuracy in %\")\n",
        "axs[1, 0].legend(loc=\"best\")\n",
        "\n",
        "axs[0, 1].plot(test_loss)\n",
        "axs[0, 1].set_xlabel(\"Epoch\")\n",
        "axs[0, 1].set_ylabel(\"Loss\")\n",
        "axs[0, 1].set_title(\"Test Loss\")\n",
        "axs[0, 1].legend(loc=\"best\")\n",
        "\n",
        "axs[1, 1].plot(test_digit_accuracy, label=\"MNIST Digit prediction accuracy\")\n",
        "axs[1, 1].plot(test_sum_accuracy, label=\"Random_num + MNIST sum accuracy\")\n",
        "axs[1, 1].set_xlabel(\"Epoch\")\n",
        "axs[1, 1].set_ylabel(\"Accuracy in %\")\n",
        "axs[1, 1].set_title(\"Test Accuracy\")\n",
        "axs[1, 1].legend(loc=\"best\")\n",
        "plt.figure()"
      ],
      "execution_count": 23,
      "outputs": [
        {
          "output_type": "stream",
          "text": [
            "No handles with labels found to put in legend.\n",
            "No handles with labels found to put in legend.\n"
          ],
          "name": "stderr"
        },
        {
          "output_type": "execute_result",
          "data": {
            "text/plain": [
              "<Figure size 432x288 with 0 Axes>"
            ]
          },
          "metadata": {
            "tags": []
          },
          "execution_count": 23
        },
        {
          "output_type": "display_data",
          "data": {
            "image/png": "[encoded data removed]",
            "text/plain": [
              "<Figure size 1080x720 with 4 Axes>"
            ]
          },
          "metadata": {
            "tags": [],
            "needs_background": "light"
          }
        },
        {
          "output_type": "display_data",
          "data": {
            "text/plain": [
              "<Figure size 432x288 with 0 Axes>"
            ]
          },
          "metadata": {
            "tags": []
          }
        }
      ]
    }
  ]
}